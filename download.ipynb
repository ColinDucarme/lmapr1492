{
 "cells": [
  {
   "cell_type": "code",
   "execution_count": 1,
   "id": "7f57e930",
   "metadata": {},
   "outputs": [],
   "source": [
    "from pymatgen.ext.matproj import MPRester\n",
    "from pymatgen.io.cif import CifWriter\n",
    "with MPRester(\"JHBtSyD6TnKgmAas\") as m:\n",
    "    structure = m.get_structure_by_material_id(\"mp-5077\")\n",
    "    CifWriter(structure).write_file(\"NaLi2Sb.cif\")"
   ]
  },
  {
   "cell_type": "code",
   "execution_count": null,
   "id": "410bb9b4",
   "metadata": {},
   "outputs": [],
   "source": []
  }
 ],
 "metadata": {
  "kernelspec": {
   "display_name": "Python 3",
   "language": "python",
   "name": "python3"
  },
  "language_info": {
   "codemirror_mode": {
    "name": "ipython",
    "version": 3
   },
   "file_extension": ".py",
   "mimetype": "text/x-python",
   "name": "python",
   "nbconvert_exporter": "python",
   "pygments_lexer": "ipython3",
   "version": "3.6.8"
  }
 },
 "nbformat": 4,
 "nbformat_minor": 5
}
