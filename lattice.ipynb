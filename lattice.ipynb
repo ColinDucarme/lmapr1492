{
 "cells": [
  {
   "cell_type": "markdown",
   "id": "dbff0594",
   "metadata": {},
   "source": [
    "# Tâche 5"
   ]
  },
  {
   "cell_type": "markdown",
   "id": "98e9c8c3",
   "metadata": {},
   "source": [
    "## Import des données"
   ]
  },
  {
   "cell_type": "code",
   "execution_count": 1,
   "id": "e2c0d7e0",
   "metadata": {},
   "outputs": [],
   "source": [
    "from pymatgen.ext.matproj import MPRester\n",
    "from pymatgen.io.cif import CifWriter\n",
    "from pymatgen.symmetry.analyzer import SpacegroupAnalyzer\n",
    "with MPRester(\"JHBtSyD6TnKgmAas\") as m:\n",
    "    structure = m.get_structure_by_material_id(\"mp-5077\") # Structure de NaLi2Sb\n",
    "    CifWriter(structure, symprec = True).write_file(\"NaLi2Sb.cif\") # Télécharge sous forme de fichier cif\n",
    "    \n",
    "struct = SpacegroupAnalyzer(structure).get_conventional_standard_structure()"
   ]
  },
  {
   "cell_type": "markdown",
   "id": "ad44260b",
   "metadata": {},
   "source": [
    "## Caractérisation de la structure cristalline"
   ]
  },
  {
   "cell_type": "code",
   "execution_count": 2,
   "id": "8c0094dc",
   "metadata": {},
   "outputs": [
    {
     "name": "stdout",
     "output_type": "stream",
     "text": [
      "Les vecteurs de base du réseau ponctuel de la maille conventionnelle sont : \n",
      "a = [6.84774200e+00 0.00000000e+00 4.19303266e-16] Å\n",
      "b = [1.10120090e-15 6.84774200e+00 4.19303266e-16] Å\n",
      "c = [0.       0.       6.847742] Å\n"
     ]
    }
   ],
   "source": [
    "# Vecteurs de base du réseau ponctuel\n",
    "conv_vec = struct.lattice.matrix\n",
    "print(\"Les vecteurs de base du réseau ponctuel de la maille conventionnelle sont : \")\n",
    "print(\"a = \" + str(conv_vec[0]) + \" Å\")\n",
    "print(\"b = \" + str(conv_vec[1]) + \" Å\")\n",
    "print(\"c = \" + str(conv_vec[2]) + \" Å\")"
   ]
  },
  {
   "cell_type": "code",
   "execution_count": 3,
   "id": "80608b96",
   "metadata": {},
   "outputs": [
    {
     "name": "stdout",
     "output_type": "stream",
     "text": [
      "Les vecteurs de base du réseau réciproque de la maille conventionnelle sont : \n",
      "a* = [ 9.17555788e-01 -1.47554225e-16  0.00000000e+00] Å\n",
      "b* = [0.         0.91755579 0.        ] Å\n",
      "c* = [-5.61840879e-17 -5.61840879e-17  9.17555788e-01] Å\n"
     ]
    }
   ],
   "source": [
    "# Vecteurs de base du réseau réciproque\n",
    "recipr_vec = struct.lattice.reciprocal_lattice.matrix\n",
    "print(\"Les vecteurs de base du réseau réciproque de la maille conventionnelle sont : \")\n",
    "print(\"a* = \" + str(recipr_vec[0]) + \" Å\")\n",
    "print(\"b* = \" + str(recipr_vec[1]) + \" Å\")\n",
    "print(\"c* = \" + str(recipr_vec[2]) + \" Å\")"
   ]
  },
  {
   "cell_type": "code",
   "execution_count": 4,
   "id": "de8dd02f",
   "metadata": {},
   "outputs": [
    {
     "name": "stdout",
     "output_type": "stream",
     "text": [
      "La maille est de type : F\n"
     ]
    }
   ],
   "source": [
    "# Type de maille\n",
    "print(\"La maille est de type : \" + str(struct.get_space_group_info()[0][0]))"
   ]
  },
  {
   "cell_type": "code",
   "execution_count": 5,
   "id": "b8fa2beb",
   "metadata": {},
   "outputs": [
    {
     "name": "stdout",
     "output_type": "stream",
     "text": [
      "Le système cristallin est : cubic\n"
     ]
    }
   ],
   "source": [
    "# Système cristallin\n",
    "print(\"Le système cristallin est : \" + str(SpacegroupAnalyzer(structure).get_crystal_system()))"
   ]
  },
  {
   "cell_type": "code",
   "execution_count": 6,
   "id": "b9ac7c92",
   "metadata": {},
   "outputs": [
    {
     "name": "stdout",
     "output_type": "stream",
     "text": [
      "Le groupe pontuel est : Fm-3m de numéro 225\n"
     ]
    }
   ],
   "source": [
    "# Groupe ponctuel\n",
    "print(\"Le groupe pontuel est : \" + str(struct.get_space_group_info()[0]) + \" de numéro \" + str(struct.get_space_group_info()[1]))"
   ]
  }
 ],
 "metadata": {
  "kernelspec": {
   "display_name": "Python 3",
   "language": "python",
   "name": "python3"
  },
  "language_info": {
   "codemirror_mode": {
    "name": "ipython",
    "version": 3
   },
   "file_extension": ".py",
   "mimetype": "text/x-python",
   "name": "python",
   "nbconvert_exporter": "python",
   "pygments_lexer": "ipython3",
   "version": "3.6.8"
  }
 },
 "nbformat": 4,
 "nbformat_minor": 5
}
