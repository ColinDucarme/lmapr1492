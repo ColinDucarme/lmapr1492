{
 "cells": [
  {
   "cell_type": "markdown",
   "id": "06f4c396",
   "metadata": {},
   "source": [
    "# Tâche 6"
   ]
  },
  {
   "cell_type": "markdown",
   "id": "87433dc4",
   "metadata": {},
   "source": [
    "## Import des données"
   ]
  },
  {
   "cell_type": "code",
   "execution_count": 1,
   "id": "5ce1c376",
   "metadata": {},
   "outputs": [],
   "source": [
    "from pymatgen.ext.matproj import MPRester\n",
    "from pymatgen.io.cif import CifWriter\n",
    "from pymatgen.symmetry.analyzer import SpacegroupAnalyzer\n",
    "from pymatgen.core.operations import SymmOp\n",
    "from jupyter_jsmol import JsmolView\n",
    "from jupyter_jsmol.pymatgen import quick_view\n",
    "from ipywidgets import Layout, widgets, interact\n",
    "from IPython.display import display\n",
    "with MPRester(\"JHBtSyD6TnKgmAas\") as m:\n",
    "    structure = m.get_structure_by_material_id(\"mp-5077\") # Structure de NaLi2Sb\n",
    "    CifWriter(structure, symprec = True).write_file(\"NaLi2Sb.cif\") # Télécharge sous forme de fichier cif"
   ]
  },
  {
   "cell_type": "markdown",
   "id": "074b50db",
   "metadata": {},
   "source": [
    "## Symétrie sur Na : Inversion"
   ]
  },
  {
   "cell_type": "code",
   "execution_count": 2,
   "id": "858093cb",
   "metadata": {},
   "outputs": [
    {
     "data": {
      "application/vnd.jupyter.widget-view+json": {
       "model_id": "75a6a3b927124089b32597cb9860cb9d",
       "version_major": 2,
       "version_minor": 0
      },
      "text/plain": [
       "JsmolView(layout=Layout(align_self='stretch', height='400px'))"
      ]
     },
     "metadata": {},
     "output_type": "display_data"
    },
    {
     "name": "stdout",
     "output_type": "stream",
     "text": [
      "Rot:\n",
      "[[-1.  0.  0.]\n",
      " [ 0. -1.  0.]\n",
      " [ 0.  0. -1.]]\n",
      "tau\n",
      "[0. 0. 0.]\n",
      "Position initiale : [0.5, 0.5, 0.5]\n",
      "Position après symétrie : [-0.5 -0.5 -0.5]\n"
     ]
    }
   ],
   "source": [
    "# Inversion sur l'atome de Na\n",
    "view1 = JsmolView.from_file(\"NaLi2Sb.cif\", '{1, 1, 1}', inline=True)\n",
    "display(view1)\n",
    "view1.script('select antimony; color lightsalmon')\n",
    "view1.script('select sodium; color gold')\n",
    "view1.script('select lithium; color palegreen')\n",
    "view1.script('draw SYMOP 2 {atomno = 29}')\n",
    "op = SymmOp.from_xyz_string('-x,-y,-z')\n",
    "print(op)\n",
    "print('Position initiale : ' + str([0.5, 0.5, 0.5]))\n",
    "print('Position après symétrie : ' + str(op.operate([0.5, 0.5, 0.5])))"
   ]
  },
  {
   "cell_type": "markdown",
   "id": "df0639e8",
   "metadata": {},
   "source": [
    "Sachant que l'atome choisi est en position ($\\frac{1}{2},\\frac{1}{2},\\frac{1}{2}$), et que la matrice d'inversion est celle définie ci-dessus, nous obtenons comme position après application de l'inversion :\n",
    "$\n",
    "\\begin{bmatrix}\n",
    "-1 & 0 & 0\\\\\n",
    "0 & -1 & 0\\\\\n",
    "0 & 0 & -1\n",
    "\\end{bmatrix}\n",
    "\\begin{bmatrix}\n",
    "x\\\\\n",
    "y\\\\\n",
    "z\n",
    "\\end{bmatrix} = \n",
    "\\begin{bmatrix}\n",
    "-x\\\\\n",
    "-y\\\\\n",
    "-z\n",
    "\\end{bmatrix}\\\\$\n",
    "Nous obtenons bien comme position finale ($-\\frac{1}{2},-\\frac{1}{2},-\\frac{1}{2}$) qui équivaut à la position ($\\frac{1}{2},\\frac{1}{2},\\frac{1}{2}$) comme représenté sur le Jsmol ci-dessus."
   ]
  },
  {
   "cell_type": "markdown",
   "id": "ad8f5b46",
   "metadata": {},
   "source": [
    "Si le Jsmol ne s'affiche pas ou s'affiche mal, voici une image de ce que vous êtes censé obtenir : \n",
    "![Symétrie d'inversion](Images/symmetry_inversion.png)"
   ]
  },
  {
   "cell_type": "markdown",
   "id": "0d52a514",
   "metadata": {},
   "source": [
    "## Symétrie sur Li : Rotation d'ordre 4"
   ]
  },
  {
   "cell_type": "code",
   "execution_count": 3,
   "id": "fbabc91b",
   "metadata": {
    "scrolled": false
   },
   "outputs": [
    {
     "data": {
      "application/vnd.jupyter.widget-view+json": {
       "model_id": "2e3145e6cf7e492b934368ea1bda0984",
       "version_major": 2,
       "version_minor": 0
      },
      "text/plain": [
       "JsmolView(layout=Layout(align_self='stretch', height='400px'))"
      ]
     },
     "metadata": {},
     "output_type": "display_data"
    },
    {
     "name": "stdout",
     "output_type": "stream",
     "text": [
      "Rot:\n",
      "[[ 1.  0.  0.]\n",
      " [ 0.  0. -1.]\n",
      " [ 0.  1.  0.]]\n",
      "tau\n",
      "[0. 0. 0.]\n",
      "Position initiale : [0.25, 0.25, 0.25]\n",
      "Position après symétrie : [ 0.25 -0.25  0.25]\n"
     ]
    }
   ],
   "source": [
    "# Rotation sur l'atome de Li\n",
    "view = JsmolView.from_file(\"NaLi2Sb.cif\", '{1, 1, 1}', inline = True)\n",
    "display(view)\n",
    "view.script('select antimony; color lightsalmon')\n",
    "view.script('select sodium; color gold')\n",
    "view.script('select lithium; color palegreen')\n",
    "view.script(\"draw symop 3 {atomno=2}\")\n",
    "op = SymmOp.from_xyz_string('x,-z,y')\n",
    "print(op)\n",
    "print('Position initiale : ' + str([0.25, 0.25, 0.25]))\n",
    "print('Position après symétrie : ' + str(op.operate([0.25, 0.25, 0.25])))"
   ]
  },
  {
   "cell_type": "markdown",
   "id": "360d3e21",
   "metadata": {},
   "source": [
    "Sachant que l'atome choisi est en position ($\\frac{1}{4},\\frac{1}{4},\\frac{1}{4}$), et que la matrice de rotation est celle définie ci-dessus, nous obtenons comme position après application de la rotation :\n",
    "$\n",
    "\\begin{bmatrix}\n",
    "1 & 0 & 0\\\\\n",
    "0 & 0 & -1\\\\\n",
    "0 & 1 & 0\n",
    "\\end{bmatrix}\n",
    "\\begin{bmatrix}\n",
    "x\\\\\n",
    "y\\\\\n",
    "z\n",
    "\\end{bmatrix} = \n",
    "\\begin{bmatrix}\n",
    "x\\\\\n",
    "-z\\\\\n",
    "y\n",
    "\\end{bmatrix}\\\\$\n",
    "Nous obtenons bien comme position finale ($\\frac{1}{4},-\\frac{1}{4},\\frac{1}{4}$) qui équivaut à la position ($\\frac{1}{4},\\frac{3}{4},\\frac{1}{4}$) comme représenté sur le Jsmol ci-dessus."
   ]
  },
  {
   "cell_type": "markdown",
   "id": "1a602e8a",
   "metadata": {},
   "source": [
    "Si le Jsmol ne s'affiche pas ou s'affiche mal, voici une image de ce que vous êtes censé obtenir : \n",
    "![Symétrie de rotation](Images/symmetry_rotation.png)"
   ]
  },
  {
   "cell_type": "markdown",
   "id": "51cb6f95",
   "metadata": {},
   "source": [
    "## Symétrie sur Sb : Roto-inversion d'ordre 4"
   ]
  },
  {
   "cell_type": "code",
   "execution_count": 4,
   "id": "dfeefa61",
   "metadata": {
    "scrolled": false
   },
   "outputs": [
    {
     "data": {
      "application/vnd.jupyter.widget-view+json": {
       "model_id": "d10cb520157f4b799feba1470af8ecd6",
       "version_major": 2,
       "version_minor": 0
      },
      "text/plain": [
       "JsmolView(layout=Layout(align_self='stretch', height='400px'))"
      ]
     },
     "metadata": {},
     "output_type": "display_data"
    },
    {
     "name": "stdout",
     "output_type": "stream",
     "text": [
      "Rot:\n",
      "[[-1.  0.  0.]\n",
      " [ 0.  0.  1.]\n",
      " [ 0. -1.  0.]]\n",
      "tau\n",
      "[0. 0. 0.]\n",
      "Position initiale : [0.5, 0.0, 0.5]\n",
      "Position après symétrie : [-0.5  0.5  0. ]\n"
     ]
    }
   ],
   "source": [
    "# Roto-inversion sur l'atome de Sb\n",
    "view = JsmolView.from_file(\"NaLi2Sb.cif\", '{1, 1, 1}', inline = True)\n",
    "display(view)\n",
    "view.script('select antimony; color lightsalmon')\n",
    "view.script('select sodium; color gold')\n",
    "view.script('select lithium; color palegreen')\n",
    "view.script(\"draw symop 4 {atomno=34}\")\n",
    "op = SymmOp.from_xyz_string('-x,z,-y')\n",
    "print(op)\n",
    "print('Position initiale : ' + str([0.5, 0.0, 0.5]))\n",
    "print('Position après symétrie : ' + str(op.operate([0.5, 0.0, 0.5])))"
   ]
  },
  {
   "cell_type": "markdown",
   "id": "d5cb70a1",
   "metadata": {},
   "source": [
    "Sachant que l'atome choisi est en position ($\\frac{1}{2},0,\\frac{1}{2}$), et que la matrice de roto-inversion est celle définie ci-dessus, nous obtenons comme position après application de la roto-inversion :\n",
    "$\n",
    "\\begin{bmatrix}\n",
    "-1 & 0 & 0\\\\\n",
    "0 & 0 & 1\\\\\n",
    "0 & -1 & 0\n",
    "\\end{bmatrix}\n",
    "\\begin{bmatrix}\n",
    "x\\\\\n",
    "y\\\\\n",
    "z\n",
    "\\end{bmatrix} = \n",
    "\\begin{bmatrix}\n",
    "-x\\\\\n",
    "z\\\\\n",
    "-y\n",
    "\\end{bmatrix}\\\\$\n",
    "Nous obtenons bien comme position finale ($-\\frac{1}{2},\\frac{1}{2},0$) qui équivaut à la position ($\\frac{1}{2},\\frac{1}{2},0$) comme représenté sur le Jsmol ci-dessus."
   ]
  },
  {
   "cell_type": "markdown",
   "id": "eeb2a7f7",
   "metadata": {},
   "source": [
    "Si le Jsmol ne s'affiche pas ou s'affiche mal, voici une image de ce que vous êtes censé obtenir : \n",
    "![Symétrie de roto-inversion](Images/symmetry_roto_inversion.png)"
   ]
  }
 ],
 "metadata": {
  "kernelspec": {
   "display_name": "Python 3",
   "language": "python",
   "name": "python3"
  },
  "language_info": {
   "codemirror_mode": {
    "name": "ipython",
    "version": 3
   },
   "file_extension": ".py",
   "mimetype": "text/x-python",
   "name": "python",
   "nbconvert_exporter": "python",
   "pygments_lexer": "ipython3",
   "version": "3.6.8"
  }
 },
 "nbformat": 4,
 "nbformat_minor": 5
}
